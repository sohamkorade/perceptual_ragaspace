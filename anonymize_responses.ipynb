{
 "cells": [
  {
   "cell_type": "code",
   "execution_count": 6,
   "metadata": {},
   "outputs": [
    {
     "name": "stdout",
     "output_type": "stream",
     "text": [
      "Saved mapping to anonymization_mapping.csv\n",
      "Anonymized 14 files.\n"
     ]
    }
   ],
   "source": [
    "import os\n",
    "import json\n",
    "import shutil\n",
    "import pandas as pd\n",
    "\n",
    "def anonymize_json_files(directory, prefix=\"sample\", save_mapping=True, mapping_filename=\"anonymization_mapping.csv\"):\n",
    "    # Get all JSON files in the directory\n",
    "    json_files = sorted([f for f in os.listdir(directory) if f.endswith('.json')])\n",
    "\n",
    "    # Generate new anonymized names\n",
    "    mapping = []\n",
    "    for idx, original_filename in enumerate(json_files, start=1):\n",
    "        new_name = f\"{prefix}_{idx:03d}.json\"\n",
    "        original_path = os.path.join(directory, original_filename)\n",
    "        new_path = os.path.join(directory, new_name)\n",
    "\n",
    "        shutil.move(original_path, new_path)\n",
    "        mapping.append({'original_filename': original_filename, 'anonymized_filename': new_name})\n",
    "\n",
    "    # Save mapping\n",
    "    if save_mapping:\n",
    "        df = pd.DataFrame(mapping)\n",
    "        df.to_csv(mapping_filename, index=False)\n",
    "        print(f\"Saved mapping to {mapping_filename}\")\n",
    "\n",
    "    print(f\"Anonymized {len(json_files)} files.\")\n",
    "\n",
    "anonymize_json_files(\"experiment_responses/\")"
   ]
  }
 ],
 "metadata": {
  "kernelspec": {
   "display_name": "main",
   "language": "python",
   "name": "python3"
  },
  "language_info": {
   "codemirror_mode": {
    "name": "ipython",
    "version": 3
   },
   "file_extension": ".py",
   "mimetype": "text/x-python",
   "name": "python",
   "nbconvert_exporter": "python",
   "pygments_lexer": "ipython3",
   "version": "3.12.7"
  }
 },
 "nbformat": 4,
 "nbformat_minor": 2
}
